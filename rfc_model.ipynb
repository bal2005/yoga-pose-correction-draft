{
 "cells": [
  {
   "cell_type": "code",
   "execution_count": 1,
   "metadata": {},
   "outputs": [],
   "source": [
    "import pandas as pd\n",
    "import pickle as pk\n",
    "from sklearn.ensemble import RandomForestClassifier\n",
    "from sklearn.metrics import classification_report\n",
    "from sklearn.model_selection import train_test_split\n",
    "\n",
    "import warnings\n",
    "warnings.filterwarnings(\"ignore\")"
   ]
  },
  {
   "cell_type": "code",
   "execution_count": 2,
   "metadata": {},
   "outputs": [
    {
     "name": "stdout",
     "output_type": "stream",
     "text": [
      "              precision    recall  f1-score   support\n",
      "\n",
      "           0       1.00      0.96      0.98        48\n",
      "           1       0.95      1.00      0.98        41\n",
      "           2       1.00      0.96      0.98        23\n",
      "           3       0.98      1.00      0.99        45\n",
      "\n",
      "    accuracy                           0.98       157\n",
      "   macro avg       0.98      0.98      0.98       157\n",
      "weighted avg       0.98      0.98      0.98       157\n",
      "\n"
     ]
    }
   ],
   "source": [
    "data_pose = pd.read_csv(f\"./csv_files/poses_data_pose.csv\")\n",
    "features = data_pose.drop([\"pose\"], axis=1)\n",
    "target = data_pose[[\"pose\"]]\n",
    "\n",
    "X_train, X_test, y_train, y_test = train_test_split(\n",
    "    features, target, test_size=0.2)\n",
    "\n",
    "data_all_pose_model = RandomForestClassifier()\n",
    "data_all_pose_model.fit(X_train, y_train)\n",
    "\n",
    "print(classification_report(y_test, data_all_pose_model.predict(X_test)))"
   ]
  },
  {
   "cell_type": "code",
   "execution_count": 3,
   "metadata": {},
   "outputs": [],
   "source": [
    "pk.dump(data_all_pose_model, open(f\"./models/poses.model\", \"wb\"))"
   ]
  }
 ],
 "metadata": {
  "kernelspec": {
   "display_name": "yog2env",
   "language": "python",
   "name": "python3"
  },
  "language_info": {
   "codemirror_mode": {
    "name": "ipython",
    "version": 3
   },
   "file_extension": ".py",
   "mimetype": "text/x-python",
   "name": "python",
   "nbconvert_exporter": "python",
   "pygments_lexer": "ipython3",
   "version": "3.9.20"
  }
 },
 "nbformat": 4,
 "nbformat_minor": 2
}
